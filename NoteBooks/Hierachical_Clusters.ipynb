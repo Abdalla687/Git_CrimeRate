{
 "cells": [
  {
   "cell_type": "markdown",
   "id": "47fa6619",
   "metadata": {},
   "source": [
    "# Hierachical Clustering"
   ]
  },
  {
   "cell_type": "code",
   "execution_count": 1,
   "id": "f26d4de9",
   "metadata": {},
   "outputs": [],
   "source": [
    "import numpy as np\n",
    "import pandas as pd\n",
    "import matplotlib.pyplot as plt\n",
    "import seaborn as sns \n",
    "from scipy.cluster.hierarchy import dendrogram, linkage\n",
    "from sklearn.model_selection import train_test_split\n",
    "from sklearn.cluster import AgglomerativeClustering\n",
    "\n",
    "data = pd.read_csv(\"C:/Users/User/Downloads/data/preprocessed_data.csv\")\n",
    "data = pd.DataFrame(data)\n",
    "\n",
    "\n",
    "train_data, test_data = train_test_split(data, train_size=1000, random_state=42)\n",
    "X_train = train_data.drop(columns=['Category'])\n",
    "X_test = test_data.drop(columns=['Category'])\n"
   ]
  },
  {
   "cell_type": "code",
   "execution_count": 2,
   "id": "b308aec7",
   "metadata": {},
   "outputs": [
    {
     "data": {
      "image/png": "[encoded data removed]",
      "text/plain": [
       "<Figure size 640x480 with 1 Axes>"
      ]
     },
     "metadata": {},
     "output_type": "display_data"
    }
   ],
   "source": [
    "\n",
    "\n",
    "linkage_data = linkage(X_train,method='average',metric='euclidean')\n",
    "dendrogram(linkage_data,truncate_mode='lastp', p=20, leaf_rotation=70, leaf_font_size=10)\n",
    "plt.axhline(y=600.65, color='red', linestyle='--') \n",
    "plt.title(\"Hierarchical Clustering\")\n",
    "plt.xlabel(\"Data Points\")\n",
    "plt.ylabel(\"Distance\")\n",
    "plt.tight_layout()\n",
    "plt.show()"
   ]
  },
  {
   "cell_type": "code",
   "execution_count": 3,
   "id": "752a4887",
   "metadata": {},
   "outputs": [
    {
     "data": {
      "text/html": [
       "<div>\n",
       "<style scoped>\n",
       "    .dataframe tbody tr th:only-of-type {\n",
       "        vertical-align: middle;\n",
       "    }\n",
       "\n",
       "    .dataframe tbody tr th {\n",
       "        vertical-align: top;\n",
       "    }\n",
       "\n",
       "    .dataframe thead th {\n",
       "        text-align: right;\n",
       "    }\n",
       "</style>\n",
       "<table border=\"1\" class=\"dataframe\">\n",
       "  <thead>\n",
       "    <tr style=\"text-align: right;\">\n",
       "      <th></th>\n",
       "      <th>Unnamed: 0</th>\n",
       "      <th>PdDistrict</th>\n",
       "      <th>X</th>\n",
       "      <th>Y</th>\n",
       "      <th>Hierarchical_Cluster</th>\n",
       "    </tr>\n",
       "  </thead>\n",
       "  <tbody>\n",
       "    <tr>\n",
       "      <th>328</th>\n",
       "      <td>328</td>\n",
       "      <td>0.104318</td>\n",
       "      <td>-0.202961</td>\n",
       "      <td>-0.202628</td>\n",
       "      <td>281</td>\n",
       "    </tr>\n",
       "    <tr>\n",
       "      <th>780</th>\n",
       "      <td>780</td>\n",
       "      <td>0.104318</td>\n",
       "      <td>-0.202961</td>\n",
       "      <td>-0.202628</td>\n",
       "      <td>293</td>\n",
       "    </tr>\n",
       "    <tr>\n",
       "      <th>318</th>\n",
       "      <td>318</td>\n",
       "      <td>0.104318</td>\n",
       "      <td>-0.202961</td>\n",
       "      <td>-0.202628</td>\n",
       "      <td>177</td>\n",
       "    </tr>\n",
       "    <tr>\n",
       "      <th>1302</th>\n",
       "      <td>1302</td>\n",
       "      <td>0.104318</td>\n",
       "      <td>-0.202961</td>\n",
       "      <td>-0.202628</td>\n",
       "      <td>549</td>\n",
       "    </tr>\n",
       "    <tr>\n",
       "      <th>1581</th>\n",
       "      <td>1581</td>\n",
       "      <td>0.104318</td>\n",
       "      <td>4.935403</td>\n",
       "      <td>4.935404</td>\n",
       "      <td>799</td>\n",
       "    </tr>\n",
       "  </tbody>\n",
       "</table>\n",
       "</div>"
      ],
      "text/plain": [
       "      Unnamed: 0  PdDistrict         X         Y  Hierarchical_Cluster\n",
       "328          328    0.104318 -0.202961 -0.202628                   281\n",
       "780          780    0.104318 -0.202961 -0.202628                   293\n",
       "318          318    0.104318 -0.202961 -0.202628                   177\n",
       "1302        1302    0.104318 -0.202961 -0.202628                   549\n",
       "1581        1581    0.104318  4.935403  4.935404                   799"
      ]
     },
     "execution_count": 3,
     "metadata": {},
     "output_type": "execute_result"
    }
   ],
   "source": [
    "Hierar_model = AgglomerativeClustering(n_clusters=800, metric='euclidean', linkage='average')\n",
    "Hierar_labels = Hierar_model.fit_predict(X_train)\n",
    "hierar_Data=X_train.copy()\n",
    "hierar_Data['Hierarchical_Cluster'] = Hierar_labels\n",
    "hierar_Data.head()"
   ]
  },
  {
   "cell_type": "code",
   "execution_count": 4,
   "id": "1f6ec82e",
   "metadata": {},
   "outputs": [],
   "source": [
    "hierar_Data.to_csv(\"C:/Users/User/Downloads/data/DataWithHierarchical.csv\")"
   ]
  }
 ],
 "metadata": {
  "kernelspec": {
   "display_name": "Python 3",
   "language": "python",
   "name": "python3"
  },
  "language_info": {
   "codemirror_mode": {
    "name": "ipython",
    "version": 3
   },
   "file_extension": ".py",
   "mimetype": "text/x-python",
   "name": "python",
   "nbconvert_exporter": "python",
   "pygments_lexer": "ipython3",
   "version": "3.13.3"
  }
 },
 "nbformat": 4,
 "nbformat_minor": 5
}
