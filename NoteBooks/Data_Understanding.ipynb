{
 "cells": [
  {
   "cell_type": "markdown",
   "id": "0c950e7f",
   "metadata": {},
   "source": [
    "## 📌 Introduction  \n",
    "This project aims to predict crime rates in San Francisco using historical data."
   ]
  },
  {
   "cell_type": "code",
   "execution_count": 2,
   "id": "b60f49b7",
   "metadata": {},
   "outputs": [],
   "source": [
    "import numpy as np\n",
    "import pandas as pd\n",
    "data = pd.read_csv(\"C:/Users/User/Downloads/data/train.csv\")"
   ]
  },
  {
   "cell_type": "markdown",
   "id": "ec03ed07",
   "metadata": {},
   "source": [
    "**Dataset**: SF Crime Dataset (878,049 records) with features like Dates, Category, PdDistrict, and coordinates."
   ]
  },
  {
   "cell_type": "code",
   "execution_count": 3,
   "id": "00989a32",
   "metadata": {},
   "outputs": [
    {
     "data": {
      "text/html": [
       "<div>\n",
       "<style scoped>\n",
       "    .dataframe tbody tr th:only-of-type {\n",
       "        vertical-align: middle;\n",
       "    }\n",
       "\n",
       "    .dataframe tbody tr th {\n",
       "        vertical-align: top;\n",
       "    }\n",
       "\n",
       "    .dataframe thead th {\n",
       "        text-align: right;\n",
       "    }\n",
       "</style>\n",
       "<table border=\"1\" class=\"dataframe\">\n",
       "  <thead>\n",
       "    <tr style=\"text-align: right;\">\n",
       "      <th></th>\n",
       "      <th>Dates</th>\n",
       "      <th>Category</th>\n",
       "      <th>Descript</th>\n",
       "      <th>DayOfWeek</th>\n",
       "      <th>PdDistrict</th>\n",
       "      <th>Resolution</th>\n",
       "      <th>Address</th>\n",
       "      <th>X</th>\n",
       "      <th>Y</th>\n",
       "    </tr>\n",
       "  </thead>\n",
       "  <tbody>\n",
       "    <tr>\n",
       "      <th>0</th>\n",
       "      <td>2015-05-13 23:53:00</td>\n",
       "      <td>WARRANTS</td>\n",
       "      <td>WARRANT ARREST</td>\n",
       "      <td>Wednesday</td>\n",
       "      <td>NORTHERN</td>\n",
       "      <td>ARREST, BOOKED</td>\n",
       "      <td>OAK ST / LAGUNA ST</td>\n",
       "      <td>-122.425892</td>\n",
       "      <td>37.774599</td>\n",
       "    </tr>\n",
       "    <tr>\n",
       "      <th>1</th>\n",
       "      <td>2015-05-13 23:53:00</td>\n",
       "      <td>OTHER OFFENSES</td>\n",
       "      <td>TRAFFIC VIOLATION ARREST</td>\n",
       "      <td>Wednesday</td>\n",
       "      <td>NORTHERN</td>\n",
       "      <td>ARREST, BOOKED</td>\n",
       "      <td>OAK ST / LAGUNA ST</td>\n",
       "      <td>-122.425892</td>\n",
       "      <td>37.774599</td>\n",
       "    </tr>\n",
       "    <tr>\n",
       "      <th>2</th>\n",
       "      <td>2015-05-13 23:33:00</td>\n",
       "      <td>OTHER OFFENSES</td>\n",
       "      <td>TRAFFIC VIOLATION ARREST</td>\n",
       "      <td>Wednesday</td>\n",
       "      <td>NORTHERN</td>\n",
       "      <td>ARREST, BOOKED</td>\n",
       "      <td>VANNESS AV / GREENWICH ST</td>\n",
       "      <td>-122.424363</td>\n",
       "      <td>37.800414</td>\n",
       "    </tr>\n",
       "    <tr>\n",
       "      <th>3</th>\n",
       "      <td>2015-05-13 23:30:00</td>\n",
       "      <td>LARCENY/THEFT</td>\n",
       "      <td>GRAND THEFT FROM LOCKED AUTO</td>\n",
       "      <td>Wednesday</td>\n",
       "      <td>NORTHERN</td>\n",
       "      <td>NONE</td>\n",
       "      <td>1500 Block of LOMBARD ST</td>\n",
       "      <td>-122.426995</td>\n",
       "      <td>37.800873</td>\n",
       "    </tr>\n",
       "    <tr>\n",
       "      <th>4</th>\n",
       "      <td>2015-05-13 23:30:00</td>\n",
       "      <td>LARCENY/THEFT</td>\n",
       "      <td>GRAND THEFT FROM LOCKED AUTO</td>\n",
       "      <td>Wednesday</td>\n",
       "      <td>PARK</td>\n",
       "      <td>NONE</td>\n",
       "      <td>100 Block of BRODERICK ST</td>\n",
       "      <td>-122.438738</td>\n",
       "      <td>37.771541</td>\n",
       "    </tr>\n",
       "  </tbody>\n",
       "</table>\n",
       "</div>"
      ],
      "text/plain": [
       "                 Dates        Category                      Descript  \\\n",
       "0  2015-05-13 23:53:00        WARRANTS                WARRANT ARREST   \n",
       "1  2015-05-13 23:53:00  OTHER OFFENSES      TRAFFIC VIOLATION ARREST   \n",
       "2  2015-05-13 23:33:00  OTHER OFFENSES      TRAFFIC VIOLATION ARREST   \n",
       "3  2015-05-13 23:30:00   LARCENY/THEFT  GRAND THEFT FROM LOCKED AUTO   \n",
       "4  2015-05-13 23:30:00   LARCENY/THEFT  GRAND THEFT FROM LOCKED AUTO   \n",
       "\n",
       "   DayOfWeek PdDistrict      Resolution                    Address  \\\n",
       "0  Wednesday   NORTHERN  ARREST, BOOKED         OAK ST / LAGUNA ST   \n",
       "1  Wednesday   NORTHERN  ARREST, BOOKED         OAK ST / LAGUNA ST   \n",
       "2  Wednesday   NORTHERN  ARREST, BOOKED  VANNESS AV / GREENWICH ST   \n",
       "3  Wednesday   NORTHERN            NONE   1500 Block of LOMBARD ST   \n",
       "4  Wednesday       PARK            NONE  100 Block of BRODERICK ST   \n",
       "\n",
       "            X          Y  \n",
       "0 -122.425892  37.774599  \n",
       "1 -122.425892  37.774599  \n",
       "2 -122.424363  37.800414  \n",
       "3 -122.426995  37.800873  \n",
       "4 -122.438738  37.771541  "
      ]
     },
     "execution_count": 3,
     "metadata": {},
     "output_type": "execute_result"
    }
   ],
   "source": [
    "data.head()"
   ]
  },
  {
   "cell_type": "code",
   "execution_count": 4,
   "id": "eabddc25",
   "metadata": {},
   "outputs": [
    {
     "data": {
      "text/plain": [
       "Dates         0\n",
       "Category      0\n",
       "Descript      0\n",
       "DayOfWeek     0\n",
       "PdDistrict    0\n",
       "Resolution    0\n",
       "Address       0\n",
       "X             0\n",
       "Y             0\n",
       "dtype: int64"
      ]
     },
     "execution_count": 4,
     "metadata": {},
     "output_type": "execute_result"
    }
   ],
   "source": [
    "data.isnull().sum()"
   ]
  },
  {
   "cell_type": "markdown",
   "id": "46634469",
   "metadata": {},
   "source": [
    "✅**No Missing Value in Data**"
   ]
  },
  {
   "cell_type": "markdown",
   "id": "a3670497",
   "metadata": {},
   "source": [
    "## Let's Show Info..ℹ️"
   ]
  },
  {
   "cell_type": "code",
   "execution_count": 5,
   "id": "3502e14c",
   "metadata": {},
   "outputs": [
    {
     "data": {
      "text/html": [
       "<div>\n",
       "<style scoped>\n",
       "    .dataframe tbody tr th:only-of-type {\n",
       "        vertical-align: middle;\n",
       "    }\n",
       "\n",
       "    .dataframe tbody tr th {\n",
       "        vertical-align: top;\n",
       "    }\n",
       "\n",
       "    .dataframe thead th {\n",
       "        text-align: right;\n",
       "    }\n",
       "</style>\n",
       "<table border=\"1\" class=\"dataframe\">\n",
       "  <thead>\n",
       "    <tr style=\"text-align: right;\">\n",
       "      <th></th>\n",
       "      <th>X</th>\n",
       "      <th>Y</th>\n",
       "    </tr>\n",
       "  </thead>\n",
       "  <tbody>\n",
       "    <tr>\n",
       "      <th>count</th>\n",
       "      <td>878049.000000</td>\n",
       "      <td>878049.000000</td>\n",
       "    </tr>\n",
       "    <tr>\n",
       "      <th>mean</th>\n",
       "      <td>-122.422616</td>\n",
       "      <td>37.771020</td>\n",
       "    </tr>\n",
       "    <tr>\n",
       "      <th>std</th>\n",
       "      <td>0.030354</td>\n",
       "      <td>0.456893</td>\n",
       "    </tr>\n",
       "    <tr>\n",
       "      <th>min</th>\n",
       "      <td>-122.513642</td>\n",
       "      <td>37.707879</td>\n",
       "    </tr>\n",
       "    <tr>\n",
       "      <th>25%</th>\n",
       "      <td>-122.432952</td>\n",
       "      <td>37.752427</td>\n",
       "    </tr>\n",
       "    <tr>\n",
       "      <th>50%</th>\n",
       "      <td>-122.416420</td>\n",
       "      <td>37.775421</td>\n",
       "    </tr>\n",
       "    <tr>\n",
       "      <th>75%</th>\n",
       "      <td>-122.406959</td>\n",
       "      <td>37.784369</td>\n",
       "    </tr>\n",
       "    <tr>\n",
       "      <th>max</th>\n",
       "      <td>-120.500000</td>\n",
       "      <td>90.000000</td>\n",
       "    </tr>\n",
       "  </tbody>\n",
       "</table>\n",
       "</div>"
      ],
      "text/plain": [
       "                   X              Y\n",
       "count  878049.000000  878049.000000\n",
       "mean     -122.422616      37.771020\n",
       "std         0.030354       0.456893\n",
       "min      -122.513642      37.707879\n",
       "25%      -122.432952      37.752427\n",
       "50%      -122.416420      37.775421\n",
       "75%      -122.406959      37.784369\n",
       "max      -120.500000      90.000000"
      ]
     },
     "execution_count": 5,
     "metadata": {},
     "output_type": "execute_result"
    }
   ],
   "source": [
    "data.describe()"
   ]
  },
  {
   "cell_type": "markdown",
   "id": "b383daa4",
   "metadata": {},
   "source": [
    "\n",
    "***\n",
    "**Name Columes**:\n",
    "* count: Number of non-missing values (here, 878,049 for each column).\n",
    "* mean: Arithmetic average (e.g., -122.422616 for X).\n",
    "* std: Standard deviation (a measure of dispersion; small values indicate data points are close to the mean).\n",
    "* min and max: Minimum and maximum values (e.g., -122.513642 to -120.5 for X).\n",
    "* 25%, 50%, 75%: Quartiles (values at 25%, 50%, and 75% of the sorted data).\n",
    "***\n",
    "\n"
   ]
  },
  {
   "cell_type": "code",
   "execution_count": 6,
   "id": "5205eabd",
   "metadata": {},
   "outputs": [
    {
     "data": {
      "text/plain": [
       "Category\n",
       "LARCENY/THEFT                  174900\n",
       "OTHER OFFENSES                 126182\n",
       "NON-CRIMINAL                    92304\n",
       "ASSAULT                         76876\n",
       "DRUG/NARCOTIC                   53971\n",
       "VEHICLE THEFT                   53781\n",
       "VANDALISM                       44725\n",
       "WARRANTS                        42214\n",
       "BURGLARY                        36755\n",
       "SUSPICIOUS OCC                  31414\n",
       "MISSING PERSON                  25989\n",
       "ROBBERY                         23000\n",
       "FRAUD                           16679\n",
       "FORGERY/COUNTERFEITING          10609\n",
       "SECONDARY CODES                  9985\n",
       "WEAPON LAWS                      8555\n",
       "PROSTITUTION                     7484\n",
       "TRESPASS                         7326\n",
       "STOLEN PROPERTY                  4540\n",
       "SEX OFFENSES FORCIBLE            4388\n",
       "DISORDERLY CONDUCT               4320\n",
       "DRUNKENNESS                      4280\n",
       "RECOVERED VEHICLE                3138\n",
       "KIDNAPPING                       2341\n",
       "DRIVING UNDER THE INFLUENCE      2268\n",
       "RUNAWAY                          1946\n",
       "LIQUOR LAWS                      1903\n",
       "ARSON                            1513\n",
       "LOITERING                        1225\n",
       "EMBEZZLEMENT                     1166\n",
       "SUICIDE                           508\n",
       "FAMILY OFFENSES                   491\n",
       "BAD CHECKS                        406\n",
       "BRIBERY                           289\n",
       "EXTORTION                         256\n",
       "SEX OFFENSES NON FORCIBLE         148\n",
       "GAMBLING                          146\n",
       "PORNOGRAPHY/OBSCENE MAT            22\n",
       "TREA                                6\n",
       "Name: count, dtype: int64"
      ]
     },
     "execution_count": 6,
     "metadata": {},
     "output_type": "execute_result"
    }
   ],
   "source": [
    "data[\"Category\"].value_counts().sort_values(ascending=False)"
   ]
  },
  {
   "cell_type": "markdown",
   "id": "472e5477",
   "metadata": {},
   "source": [
    "*** \n",
    " \n",
    "* Counts the frequency of each category in the \"Category\" column and sorts them in descending order.\n",
    "* Used to understand the distribution of crimes or events in the data (e.g., analyzing San Francisco police data).                                                    \n",
    "\n",
    " **The Three Most Types Of Crime :**\n",
    "* LARCENY/THEFT: 174,900 occurrences (most frequent).\n",
    "* OTHER OFFENSES: 126,182 occurrences.\n",
    "* NON-CRIMINAL: 92,304 occurrences.\n",
    "\n",
    "***\n"
   ]
  },
  {
   "cell_type": "code",
   "execution_count": 7,
   "id": "68d2e33d",
   "metadata": {},
   "outputs": [
    {
     "data": {
      "text/plain": [
       "DayOfWeek\n",
       "Friday       133734\n",
       "Wednesday    129211\n",
       "Saturday     126810\n",
       "Thursday     125038\n",
       "Tuesday      124965\n",
       "Monday       121584\n",
       "Sunday       116707\n",
       "Name: count, dtype: int64"
      ]
     },
     "execution_count": 7,
     "metadata": {},
     "output_type": "execute_result"
    }
   ],
   "source": [
    "data['DayOfWeek'].value_counts().sort_values(ascending = False)"
   ]
  },
  {
   "cell_type": "markdown",
   "id": "9ebf1f71",
   "metadata": {},
   "source": [
    "***\n",
    "The most day to commit crime is Friday..!!\n",
    "***"
   ]
  },
  {
   "cell_type": "code",
   "execution_count": 8,
   "id": "6aec459d",
   "metadata": {},
   "outputs": [
    {
     "data": {
      "text/plain": [
       "PdDistrict\n",
       "SOUTHERN      157182\n",
       "MISSION       119908\n",
       "NORTHERN      105296\n",
       "BAYVIEW        89431\n",
       "CENTRAL        85460\n",
       "TENDERLOIN     81809\n",
       "INGLESIDE      78845\n",
       "TARAVAL        65596\n",
       "PARK           49313\n",
       "RICHMOND       45209\n",
       "Name: count, dtype: int64"
      ]
     },
     "execution_count": 8,
     "metadata": {},
     "output_type": "execute_result"
    }
   ],
   "source": [
    "data['PdDistrict'].value_counts().sort_values(ascending=False)"
   ]
  },
  {
   "cell_type": "markdown",
   "id": "5c354b56",
   "metadata": {},
   "source": [
    "***\n",
    "The most area where crime happens is SOUTHERN..!!\n",
    "***"
   ]
  },
  {
   "cell_type": "code",
   "execution_count": 9,
   "id": "9247ba15",
   "metadata": {},
   "outputs": [
    {
     "data": {
      "text/html": [
       "<div>\n",
       "<style scoped>\n",
       "    .dataframe tbody tr th:only-of-type {\n",
       "        vertical-align: middle;\n",
       "    }\n",
       "\n",
       "    .dataframe tbody tr th {\n",
       "        vertical-align: top;\n",
       "    }\n",
       "\n",
       "    .dataframe thead th {\n",
       "        text-align: right;\n",
       "    }\n",
       "</style>\n",
       "<table border=\"1\" class=\"dataframe\">\n",
       "  <thead>\n",
       "    <tr style=\"text-align: right;\">\n",
       "      <th>DayOfWeek</th>\n",
       "      <th>Friday</th>\n",
       "      <th>Monday</th>\n",
       "      <th>Saturday</th>\n",
       "      <th>Sunday</th>\n",
       "      <th>Thursday</th>\n",
       "      <th>Tuesday</th>\n",
       "      <th>Wednesday</th>\n",
       "    </tr>\n",
       "    <tr>\n",
       "      <th>PdDistrict</th>\n",
       "      <th></th>\n",
       "      <th></th>\n",
       "      <th></th>\n",
       "      <th></th>\n",
       "      <th></th>\n",
       "      <th></th>\n",
       "      <th></th>\n",
       "    </tr>\n",
       "  </thead>\n",
       "  <tbody>\n",
       "    <tr>\n",
       "      <th>BAYVIEW</th>\n",
       "      <td>13681</td>\n",
       "      <td>12649</td>\n",
       "      <td>12440</td>\n",
       "      <td>11965</td>\n",
       "      <td>12406</td>\n",
       "      <td>12816</td>\n",
       "      <td>13474</td>\n",
       "    </tr>\n",
       "    <tr>\n",
       "      <th>CENTRAL</th>\n",
       "      <td>13397</td>\n",
       "      <td>11130</td>\n",
       "      <td>14067</td>\n",
       "      <td>12197</td>\n",
       "      <td>11633</td>\n",
       "      <td>11289</td>\n",
       "      <td>11747</td>\n",
       "    </tr>\n",
       "    <tr>\n",
       "      <th>INGLESIDE</th>\n",
       "      <td>11881</td>\n",
       "      <td>11282</td>\n",
       "      <td>10845</td>\n",
       "      <td>10346</td>\n",
       "      <td>11298</td>\n",
       "      <td>11546</td>\n",
       "      <td>11647</td>\n",
       "    </tr>\n",
       "    <tr>\n",
       "      <th>MISSION</th>\n",
       "      <td>18190</td>\n",
       "      <td>16587</td>\n",
       "      <td>17213</td>\n",
       "      <td>15874</td>\n",
       "      <td>17045</td>\n",
       "      <td>17282</td>\n",
       "      <td>17717</td>\n",
       "    </tr>\n",
       "    <tr>\n",
       "      <th>NORTHERN</th>\n",
       "      <td>16331</td>\n",
       "      <td>14300</td>\n",
       "      <td>15487</td>\n",
       "      <td>14271</td>\n",
       "      <td>15082</td>\n",
       "      <td>14568</td>\n",
       "      <td>15257</td>\n",
       "    </tr>\n",
       "    <tr>\n",
       "      <th>PARK</th>\n",
       "      <td>7610</td>\n",
       "      <td>6945</td>\n",
       "      <td>6913</td>\n",
       "      <td>6646</td>\n",
       "      <td>7047</td>\n",
       "      <td>6871</td>\n",
       "      <td>7281</td>\n",
       "    </tr>\n",
       "    <tr>\n",
       "      <th>RICHMOND</th>\n",
       "      <td>6850</td>\n",
       "      <td>6352</td>\n",
       "      <td>6434</td>\n",
       "      <td>6089</td>\n",
       "      <td>6494</td>\n",
       "      <td>6477</td>\n",
       "      <td>6513</td>\n",
       "    </tr>\n",
       "    <tr>\n",
       "      <th>SOUTHERN</th>\n",
       "      <td>24458</td>\n",
       "      <td>21184</td>\n",
       "      <td>23277</td>\n",
       "      <td>20810</td>\n",
       "      <td>22527</td>\n",
       "      <td>22013</td>\n",
       "      <td>22913</td>\n",
       "    </tr>\n",
       "    <tr>\n",
       "      <th>TARAVAL</th>\n",
       "      <td>10207</td>\n",
       "      <td>9257</td>\n",
       "      <td>9024</td>\n",
       "      <td>8331</td>\n",
       "      <td>9370</td>\n",
       "      <td>9605</td>\n",
       "      <td>9802</td>\n",
       "    </tr>\n",
       "    <tr>\n",
       "      <th>TENDERLOIN</th>\n",
       "      <td>11129</td>\n",
       "      <td>11898</td>\n",
       "      <td>11110</td>\n",
       "      <td>10178</td>\n",
       "      <td>12136</td>\n",
       "      <td>12498</td>\n",
       "      <td>12860</td>\n",
       "    </tr>\n",
       "  </tbody>\n",
       "</table>\n",
       "</div>"
      ],
      "text/plain": [
       "DayOfWeek   Friday  Monday  Saturday  Sunday  Thursday  Tuesday  Wednesday\n",
       "PdDistrict                                                                \n",
       "BAYVIEW      13681   12649     12440   11965     12406    12816      13474\n",
       "CENTRAL      13397   11130     14067   12197     11633    11289      11747\n",
       "INGLESIDE    11881   11282     10845   10346     11298    11546      11647\n",
       "MISSION      18190   16587     17213   15874     17045    17282      17717\n",
       "NORTHERN     16331   14300     15487   14271     15082    14568      15257\n",
       "PARK          7610    6945      6913    6646      7047     6871       7281\n",
       "RICHMOND      6850    6352      6434    6089      6494     6477       6513\n",
       "SOUTHERN     24458   21184     23277   20810     22527    22013      22913\n",
       "TARAVAL      10207    9257      9024    8331      9370     9605       9802\n",
       "TENDERLOIN   11129   11898     11110   10178     12136    12498      12860"
      ]
     },
     "execution_count": 9,
     "metadata": {},
     "output_type": "execute_result"
    }
   ],
   "source": [
    "area_day_count = data[['PdDistrict','DayOfWeek']].value_counts().unstack()\n",
    "area_day_count"
   ]
  },
  {
   "cell_type": "code",
   "execution_count": 10,
   "id": "eda49fe4",
   "metadata": {},
   "outputs": [
    {
     "data": {
      "text/plain": [
       "PdDistrict\n",
       "BAYVIEW          Friday\n",
       "CENTRAL        Saturday\n",
       "INGLESIDE        Friday\n",
       "MISSION          Friday\n",
       "NORTHERN         Friday\n",
       "PARK             Friday\n",
       "RICHMOND         Friday\n",
       "SOUTHERN         Friday\n",
       "TARAVAL          Friday\n",
       "TENDERLOIN    Wednesday\n",
       "Name: MaxCrimeDay, dtype: object"
      ]
     },
     "execution_count": 10,
     "metadata": {},
     "output_type": "execute_result"
    }
   ],
   "source": [
    "area_day_count[\"MaxCrimeDay\"]=area_day_count.idxmax(axis=1)\n",
    "area_day_count[\"MaxCrimeDay\"]"
   ]
  },
  {
   "cell_type": "markdown",
   "id": "4555adc4",
   "metadata": {},
   "source": [
    "***\n",
    "Show each District Max Crime Day\n",
    "***"
   ]
  },
  {
   "cell_type": "code",
   "execution_count": 11,
   "id": "559e3fc1",
   "metadata": {},
   "outputs": [
    {
     "name": "stdout",
     "output_type": "stream",
     "text": [
      "PdDistrict\n",
      "BAYVIEW       13681\n",
      "CENTRAL       14067\n",
      "INGLESIDE     11881\n",
      "MISSION       18190\n",
      "NORTHERN      16331\n",
      "PARK           7610\n",
      "RICHMOND       6850\n",
      "SOUTHERN      24458\n",
      "TARAVAL       10207\n",
      "TENDERLOIN    12860\n",
      "Name: MaxCrimeCount, dtype: int64\n"
     ]
    }
   ],
   "source": [
    "\n",
    "# Compute Max Value\n",
    "Days_cols = ['Friday', 'Monday', 'Saturday', 'Sunday', 'Thursday', 'Tuesday', 'Wednesday']\n",
    "area_day_count['MaxCrimeCount'] = area_day_count[Days_cols].max(axis=1)\n",
    "\n",
    "print(area_day_count['MaxCrimeCount'])"
   ]
  },
  {
   "cell_type": "markdown",
   "id": "d312e2ca",
   "metadata": {},
   "source": [
    "***\n",
    "The max crime count in max crime day\n",
    "***"
   ]
  },
  {
   "cell_type": "code",
   "execution_count": 12,
   "id": "c39bd343",
   "metadata": {},
   "outputs": [
    {
     "data": {
      "text/html": [
       "<div>\n",
       "<style scoped>\n",
       "    .dataframe tbody tr th:only-of-type {\n",
       "        vertical-align: middle;\n",
       "    }\n",
       "\n",
       "    .dataframe tbody tr th {\n",
       "        vertical-align: top;\n",
       "    }\n",
       "\n",
       "    .dataframe thead th {\n",
       "        text-align: right;\n",
       "    }\n",
       "</style>\n",
       "<table border=\"1\" class=\"dataframe\">\n",
       "  <thead>\n",
       "    <tr style=\"text-align: right;\">\n",
       "      <th>DayOfWeek</th>\n",
       "      <th>MaxCrimeDay</th>\n",
       "      <th>MaxCrimeCount</th>\n",
       "    </tr>\n",
       "    <tr>\n",
       "      <th>PdDistrict</th>\n",
       "      <th></th>\n",
       "      <th></th>\n",
       "    </tr>\n",
       "  </thead>\n",
       "  <tbody>\n",
       "    <tr>\n",
       "      <th>SOUTHERN</th>\n",
       "      <td>Friday</td>\n",
       "      <td>24458</td>\n",
       "    </tr>\n",
       "    <tr>\n",
       "      <th>MISSION</th>\n",
       "      <td>Friday</td>\n",
       "      <td>18190</td>\n",
       "    </tr>\n",
       "    <tr>\n",
       "      <th>NORTHERN</th>\n",
       "      <td>Friday</td>\n",
       "      <td>16331</td>\n",
       "    </tr>\n",
       "    <tr>\n",
       "      <th>CENTRAL</th>\n",
       "      <td>Saturday</td>\n",
       "      <td>14067</td>\n",
       "    </tr>\n",
       "    <tr>\n",
       "      <th>BAYVIEW</th>\n",
       "      <td>Friday</td>\n",
       "      <td>13681</td>\n",
       "    </tr>\n",
       "    <tr>\n",
       "      <th>TENDERLOIN</th>\n",
       "      <td>Wednesday</td>\n",
       "      <td>12860</td>\n",
       "    </tr>\n",
       "    <tr>\n",
       "      <th>INGLESIDE</th>\n",
       "      <td>Friday</td>\n",
       "      <td>11881</td>\n",
       "    </tr>\n",
       "    <tr>\n",
       "      <th>TARAVAL</th>\n",
       "      <td>Friday</td>\n",
       "      <td>10207</td>\n",
       "    </tr>\n",
       "    <tr>\n",
       "      <th>PARK</th>\n",
       "      <td>Friday</td>\n",
       "      <td>7610</td>\n",
       "    </tr>\n",
       "    <tr>\n",
       "      <th>RICHMOND</th>\n",
       "      <td>Friday</td>\n",
       "      <td>6850</td>\n",
       "    </tr>\n",
       "  </tbody>\n",
       "</table>\n",
       "</div>"
      ],
      "text/plain": [
       "DayOfWeek  MaxCrimeDay  MaxCrimeCount\n",
       "PdDistrict                           \n",
       "SOUTHERN        Friday          24458\n",
       "MISSION         Friday          18190\n",
       "NORTHERN        Friday          16331\n",
       "CENTRAL       Saturday          14067\n",
       "BAYVIEW         Friday          13681\n",
       "TENDERLOIN   Wednesday          12860\n",
       "INGLESIDE       Friday          11881\n",
       "TARAVAL         Friday          10207\n",
       "PARK            Friday           7610\n",
       "RICHMOND        Friday           6850"
      ]
     },
     "execution_count": 12,
     "metadata": {},
     "output_type": "execute_result"
    }
   ],
   "source": [
    "resultWsort = area_day_count[['MaxCrimeDay','MaxCrimeCount']].sort_values(by=\"MaxCrimeCount\",ascending=False)\n",
    "resultWsort"
   ]
  },
  {
   "cell_type": "markdown",
   "id": "e3f1f5f1",
   "metadata": {},
   "source": [
    "***\n",
    "Put Data in Data Frame to become organize\n",
    "***"
   ]
  },
  {
   "cell_type": "markdown",
   "id": "dbe5c771",
   "metadata": {},
   "source": [
    "\n",
    "## Make Data More Clearly..📊"
   ]
  },
  {
   "cell_type": "code",
   "execution_count": 13,
   "id": "f6a21877",
   "metadata": {},
   "outputs": [
    {
     "data": {
      "image/png": "[encoded data removed]",
      "text/plain": [
       "<Figure size 1200x800 with 2 Axes>"
      ]
     },
     "metadata": {},
     "output_type": "display_data"
    }
   ],
   "source": [
    "import seaborn as sns\n",
    "import matplotlib.pyplot as plt\n",
    "plt.figure(figsize=(12, 8))\n",
    "sns.heatmap(area_day_count.drop(['MaxCrimeDay', 'MaxCrimeCount'], axis=1, errors='ignore'),\n",
    "            annot=True, \n",
    "            fmt='.0f', \n",
    "            cmap='Reds')\n",
    "plt.title('Crime Distribution by District and Day of Week \\n San Francisco', \n",
    "                        fontsize=16, pad=20, weight='bold')\n",
    "plt.xlabel('Day of Week', fontsize=12, labelpad=10)\n",
    "plt.ylabel('Police District', fontsize=12, labelpad=10)\n",
    "\n",
    "plt.xticks(rotation=45, ha='right', fontsize=10)\n",
    "plt.yticks(rotation=0, fontsize=10)\n",
    "\n",
    "plt.grid(False)\n",
    "plt.tight_layout()\n",
    "\n",
    "plt.show()"
   ]
  }
 ],
 "metadata": {
  "kernelspec": {
   "display_name": "Python 3",
   "language": "python",
   "name": "python3"
  },
  "language_info": {
   "codemirror_mode": {
    "name": "ipython",
    "version": 3
   },
   "file_extension": ".py",
   "mimetype": "text/x-python",
   "name": "python",
   "nbconvert_exporter": "python",
   "pygments_lexer": "ipython3",
   "version": "3.13.3"
  }
 },
 "nbformat": 4,
 "nbformat_minor": 5
}
